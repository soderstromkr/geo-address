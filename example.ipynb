{
 "cells": [
  {
   "cell_type": "code",
   "execution_count": 94,
   "id": "2394544a",
   "metadata": {},
   "outputs": [],
   "source": [
    "#import local files\n",
    "from geo_address.processing import split_address\n",
    "from geo_address.processing import begin_geocode\n",
    "from geo_address.distances import address_distance\n",
    "#import pandas for dataframe \n",
    "import pandas as pd \n",
    "import numpy as np\n"
   ]
  },
  {
   "cell_type": "code",
   "execution_count": 95,
   "id": "9838be8f",
   "metadata": {},
   "outputs": [
    {
     "data": {
      "text/html": [
       "<div>\n",
       "<style scoped>\n",
       "    .dataframe tbody tr th:only-of-type {\n",
       "        vertical-align: middle;\n",
       "    }\n",
       "\n",
       "    .dataframe tbody tr th {\n",
       "        vertical-align: top;\n",
       "    }\n",
       "\n",
       "    .dataframe thead th {\n",
       "        text-align: right;\n",
       "    }\n",
       "</style>\n",
       "<table border=\"1\" class=\"dataframe\">\n",
       "  <thead>\n",
       "    <tr style=\"text-align: right;\">\n",
       "      <th></th>\n",
       "      <th>DOI</th>\n",
       "      <th>Addresses</th>\n",
       "    </tr>\n",
       "  </thead>\n",
       "  <tbody>\n",
       "    <tr>\n",
       "      <th>2133</th>\n",
       "      <td>10.1021/jp402440u</td>\n",
       "      <td>[Chavan, Sachin; Bonino, Francesca; Civalleri,...</td>\n",
       "    </tr>\n",
       "    <tr>\n",
       "      <th>2652</th>\n",
       "      <td>10.1016/j.actbio.2012.12.008</td>\n",
       "      <td>[Munoz Noval, A.; Torres Costa, V.; Martin Pal...</td>\n",
       "    </tr>\n",
       "    <tr>\n",
       "      <th>552</th>\n",
       "      <td>10.1021/es403368j</td>\n",
       "      <td>[Servin, Alia D.; Morales, Maria Isabel; Heman...</td>\n",
       "    </tr>\n",
       "    <tr>\n",
       "      <th>3401</th>\n",
       "      <td>10.1002/macp.201100507</td>\n",
       "      <td>[Gamys, Ce Guinto; Beyou, Emmanuel; David, Lau...</td>\n",
       "    </tr>\n",
       "    <tr>\n",
       "      <th>4597</th>\n",
       "      <td>10.1021/bi201171h</td>\n",
       "      <td>[Goncalves, Susana; Esteves, Ana M.; Santos, H...</td>\n",
       "    </tr>\n",
       "  </tbody>\n",
       "</table>\n",
       "</div>"
      ],
      "text/plain": [
       "                               DOI  \\\n",
       "2133             10.1021/jp402440u   \n",
       "2652  10.1016/j.actbio.2012.12.008   \n",
       "552              10.1021/es403368j   \n",
       "3401        10.1002/macp.201100507   \n",
       "4597             10.1021/bi201171h   \n",
       "\n",
       "                                              Addresses  \n",
       "2133  [Chavan, Sachin; Bonino, Francesca; Civalleri,...  \n",
       "2652  [Munoz Noval, A.; Torres Costa, V.; Martin Pal...  \n",
       "552   [Servin, Alia D.; Morales, Maria Isabel; Heman...  \n",
       "3401  [Gamys, Ce Guinto; Beyou, Emmanuel; David, Lau...  \n",
       "4597  [Goncalves, Susana; Esteves, Ana M.; Santos, H...  "
      ]
     },
     "execution_count": 95,
     "metadata": {},
     "output_type": "execute_result"
    }
   ],
   "source": [
    "#load data\n",
    "#sample of 5 publications\n",
    "np.random.seed(123)\n",
    "df = pd.read_csv('path/to/data.csv').sample(5) #replace with your data path, using sample\n",
    "df[['DOI','Addresses']].head()"
   ]
  },
  {
   "cell_type": "code",
   "execution_count": 96,
   "id": "9a5cd06d",
   "metadata": {},
   "outputs": [
    {
     "data": {
      "text/plain": [
       "'[Chavan, Sachin; Bonino, Francesca; Civalleri, Bartolomeo; Lamberti, Carlo; Bordiga, Silvia] Univ Turin, NIS Ctr Excellence, Dept Chem, I-10135 Turin, Italy; [Chavan, Sachin; Bonino, Francesca; Civalleri, Bartolomeo; Lamberti, Carlo; Bordiga, Silvia] Univ Turin, INSTM Reference Ctr, I-10135 Turin, Italy; [Valenzano, Loredana] Michigan Technol Univ, Dept Chem, Houghton, MI 49931 USA; [Acerbi, Nadia] Johnson Matthey Technol Ctr, Reading RG4 9NH, Berks, England; [Cavka, Jasmina H.] SINTEF Mat & Chem, N-0373 Oslo, Norway; [Leistner, Matthias] IWS, Fraunhofer Inst Mat & Beam Technol, Dept Chem Surface & React Technol, D-01277 Dresden, Germany'"
      ]
     },
     "execution_count": 96,
     "metadata": {},
     "output_type": "execute_result"
    }
   ],
   "source": [
    "#data shows multiple addresses with format -> [Authors] Address;\n",
    "df['Addresses'].iloc[0]"
   ]
  },
  {
   "cell_type": "code",
   "execution_count": 97,
   "id": "a089a58b",
   "metadata": {},
   "outputs": [
    {
     "name": "stderr",
     "output_type": "stream",
     "text": [
      "Processing row 4: 100%|████████████████████████████████████████████████████████████████| 5/5 [00:00<00:00, 1553.45it/s]\n"
     ]
    },
    {
     "data": {
      "text/html": [
       "<div>\n",
       "<style scoped>\n",
       "    .dataframe tbody tr th:only-of-type {\n",
       "        vertical-align: middle;\n",
       "    }\n",
       "\n",
       "    .dataframe tbody tr th {\n",
       "        vertical-align: top;\n",
       "    }\n",
       "\n",
       "    .dataframe thead th {\n",
       "        text-align: right;\n",
       "    }\n",
       "</style>\n",
       "<table border=\"1\" class=\"dataframe\">\n",
       "  <thead>\n",
       "    <tr style=\"text-align: right;\">\n",
       "      <th></th>\n",
       "      <th>Author_names</th>\n",
       "      <th>Addresses</th>\n",
       "      <th>Multiplier</th>\n",
       "      <th>Num_Addresses</th>\n",
       "      <th>DOI</th>\n",
       "      <th>Year</th>\n",
       "    </tr>\n",
       "  </thead>\n",
       "  <tbody>\n",
       "    <tr>\n",
       "      <th>0</th>\n",
       "      <td>[[Chavan, Sachin; Bonino, Francesca; Civalleri...</td>\n",
       "      <td>Univ Turin NIS Ctr Excellence Dept Chem I-1013...</td>\n",
       "      <td>[5, 5, 1, 1, 1, 1]</td>\n",
       "      <td>6</td>\n",
       "      <td>10.1021/jp402440u</td>\n",
       "      <td>2013.0</td>\n",
       "    </tr>\n",
       "  </tbody>\n",
       "</table>\n",
       "</div>"
      ],
      "text/plain": [
       "                                        Author_names  \\\n",
       "0  [[Chavan, Sachin; Bonino, Francesca; Civalleri...   \n",
       "\n",
       "                                           Addresses          Multiplier  \\\n",
       "0  Univ Turin NIS Ctr Excellence Dept Chem I-1013...  [5, 5, 1, 1, 1, 1]   \n",
       "\n",
       "   Num_Addresses                DOI    Year  \n",
       "0              6  10.1021/jp402440u  2013.0  "
      ]
     },
     "execution_count": 97,
     "metadata": {},
     "output_type": "execute_result"
    }
   ],
   "source": [
    "#function split_address splits addresses and adds multiplier\n",
    "df_addresses = split_address(df, 'Addresses')\n",
    "df_addresses.head(1)"
   ]
  },
  {
   "cell_type": "code",
   "execution_count": 98,
   "id": "d9759886",
   "metadata": {},
   "outputs": [
    {
     "data": {
      "text/plain": [
       "['[Chavan, Sachin; Bonino, Francesca; Civalleri, Bartolomeo; Lamberti, Carlo; Bordiga, Silvia]',\n",
       " '[Chavan, Sachin; Bonino, Francesca; Civalleri, Bartolomeo; Lamberti, Carlo; Bordiga, Silvia]',\n",
       " '[Valenzano, Loredana]',\n",
       " '[Acerbi, Nadia]',\n",
       " '[Cavka, Jasmina H.]',\n",
       " '[Leistner, Matthias]']"
      ]
     },
     "execution_count": 98,
     "metadata": {},
     "output_type": "execute_result"
    }
   ],
   "source": [
    "#author column keeps format for validation with Multiplier (4,1,2 in this example)\n",
    "#one author shows two affiliations in this case\n",
    "df_addresses.Author_names[0]"
   ]
  },
  {
   "cell_type": "code",
   "execution_count": 99,
   "id": "19abc22e",
   "metadata": {},
   "outputs": [
    {
     "data": {
      "text/plain": [
       "'Univ Turin NIS Ctr Excellence Dept Chem I-10135 Turin Italy;Univ Turin INSTM Reference Ctr I-10135 Turin Italy;Michigan Technol Univ Dept Chem Houghton MI 49931 USA;Johnson Matthey Technol Ctr Reading RG4 9NH Berks England;SINTEF Mat & Chem N-0373 Oslo Norway;IWS Fraunhofer Inst Mat & Beam Technol Dept Chem Surface & React Technol D-01277 Dresden Germany'"
      ]
     },
     "execution_count": 99,
     "metadata": {},
     "output_type": "execute_result"
    }
   ],
   "source": [
    "#unique addresses\n",
    "df_addresses.Addresses[0]"
   ]
  },
  {
   "cell_type": "markdown",
   "id": "aa160b1c",
   "metadata": {},
   "source": [
    "**Note**: Remember to add your API Key on the text file if you're using Google V3 as in the article. \n",
    "- If you use another API, consult the geopy documentation for the requirements. \n",
    "- Not providing a valid API Key for GoogleV3 will result in an error, such as: *GeocoderQueryError: The provided API key is invalid.*"
   ]
  },
  {
   "cell_type": "code",
   "execution_count": 100,
   "id": "b142b2df",
   "metadata": {},
   "outputs": [
    {
     "name": "stdout",
     "output_type": "stream",
     "text": [
      "Using <geopy.geocoders.google.GoogleV3 object at 0x000001A7771DA2F0> geocoder from geopy\n",
      "Preparing address field for geocoding...\n"
     ]
    },
    {
     "name": "stderr",
     "output_type": "stream",
     "text": [
      "Geocoding row 4 of 5: 100%|██████████████████████████████████████████████████████████████| 5/5 [00:03<00:00,  1.43it/s]\n"
     ]
    }
   ],
   "source": [
    "#function begin_geocode() separates and geocodes each address, creates checkpoint file \n",
    "coords = begin_geocode(df_addresses)\n",
    "df_addresses['coords'] = coords"
   ]
  },
  {
   "cell_type": "code",
   "execution_count": 101,
   "id": "9596b8bf",
   "metadata": {},
   "outputs": [
    {
     "data": {
      "text/plain": [
       "[(45.0358565, 7.6695071),\n",
       " (45.0358565, 7.6695071),\n",
       " (47.1196551, -88.5482234),\n",
       " (51.5201606, -0.9715678),\n",
       " (59.9451407, 10.7122286),\n",
       " (51.0296177, 13.7825461)]"
      ]
     },
     "execution_count": 101,
     "metadata": {},
     "output_type": "execute_result"
    }
   ],
   "source": [
    "#coordinate sample for first pub\n",
    "#useful for maps and/or spatial statistics \n",
    "df_addresses['coords'].iloc[0]"
   ]
  },
  {
   "cell_type": "code",
   "execution_count": 102,
   "id": "eef570a7",
   "metadata": {},
   "outputs": [
    {
     "name": "stderr",
     "output_type": "stream",
     "text": [
      "100%|███████████████████████████████████████████████████████████████████████████████████| 5/5 [00:00<00:00, 523.63it/s]\n"
     ]
    }
   ],
   "source": [
    "#you can also calculate distances between addresses, and to a specific point in lat,lon coordinates\n",
    "origin = (45.2089892, 5.692755) \n",
    "df_addresses = address_distance(df_addresses, origin)"
   ]
  },
  {
   "cell_type": "code",
   "execution_count": 103,
   "id": "70670ca6",
   "metadata": {},
   "outputs": [
    {
     "data": {
      "text/html": [
       "<div>\n",
       "<style scoped>\n",
       "    .dataframe tbody tr th:only-of-type {\n",
       "        vertical-align: middle;\n",
       "    }\n",
       "\n",
       "    .dataframe tbody tr th {\n",
       "        vertical-align: top;\n",
       "    }\n",
       "\n",
       "    .dataframe thead th {\n",
       "        text-align: right;\n",
       "    }\n",
       "</style>\n",
       "<table border=\"1\" class=\"dataframe\">\n",
       "  <thead>\n",
       "    <tr style=\"text-align: right;\">\n",
       "      <th></th>\n",
       "      <th>DOI</th>\n",
       "      <th>Addresses</th>\n",
       "      <th>distance_to_facility</th>\n",
       "      <th>mean_distance_between_addresses</th>\n",
       "      <th>mean_distance_to_facility</th>\n",
       "    </tr>\n",
       "  </thead>\n",
       "  <tbody>\n",
       "    <tr>\n",
       "      <th>0</th>\n",
       "      <td>10.1021/jp402440u</td>\n",
       "      <td>Univ Turin NIS Ctr Excellence Dept Chem I-1013...</td>\n",
       "      <td>[156.28, 156.28, 6784.54, 856.48, 1672.14, 881...</td>\n",
       "      <td>2853.728412</td>\n",
       "      <td>1751.268333</td>\n",
       "    </tr>\n",
       "    <tr>\n",
       "      <th>1</th>\n",
       "      <td>10.1016/j.actbio.2012.12.008</td>\n",
       "      <td>Univ Autonoma Madrid Dept Fis Aplicada E-28049...</td>\n",
       "      <td>[923.08, 931.6, 927.03, 923.08, 932.53, 922.52]</td>\n",
       "      <td>7.631725</td>\n",
       "      <td>926.640000</td>\n",
       "    </tr>\n",
       "    <tr>\n",
       "      <th>2</th>\n",
       "      <td>10.1021/es403368j</td>\n",
       "      <td>Univ Texas El Paso Dept Chem El Paso TX 79968 ...</td>\n",
       "      <td>[9065.24, 9065.24, 9065.24, 9065.24, 9060.86, ...</td>\n",
       "      <td>3027.431289</td>\n",
       "      <td>7553.636667</td>\n",
       "    </tr>\n",
       "    <tr>\n",
       "      <th>3</th>\n",
       "      <td>10.1002/macp.201100507</td>\n",
       "      <td>Univ Lyon 1 Ingenierie Mat Polymeres CNRS UMR5...</td>\n",
       "      <td>[88.5, 88.5]</td>\n",
       "      <td>0.000000</td>\n",
       "      <td>88.500000</td>\n",
       "    </tr>\n",
       "    <tr>\n",
       "      <th>4</th>\n",
       "      <td>10.1021/bi201171h</td>\n",
       "      <td>Univ Nova Lisboa ITQB P-2781901 Oeiras Portugal</td>\n",
       "      <td>[1434.07]</td>\n",
       "      <td>NaN</td>\n",
       "      <td>1434.070000</td>\n",
       "    </tr>\n",
       "  </tbody>\n",
       "</table>\n",
       "</div>"
      ],
      "text/plain": [
       "                            DOI  \\\n",
       "0             10.1021/jp402440u   \n",
       "1  10.1016/j.actbio.2012.12.008   \n",
       "2             10.1021/es403368j   \n",
       "3        10.1002/macp.201100507   \n",
       "4             10.1021/bi201171h   \n",
       "\n",
       "                                           Addresses  \\\n",
       "0  Univ Turin NIS Ctr Excellence Dept Chem I-1013...   \n",
       "1  Univ Autonoma Madrid Dept Fis Aplicada E-28049...   \n",
       "2  Univ Texas El Paso Dept Chem El Paso TX 79968 ...   \n",
       "3  Univ Lyon 1 Ingenierie Mat Polymeres CNRS UMR5...   \n",
       "4    Univ Nova Lisboa ITQB P-2781901 Oeiras Portugal   \n",
       "\n",
       "                                distance_to_facility  \\\n",
       "0  [156.28, 156.28, 6784.54, 856.48, 1672.14, 881...   \n",
       "1    [923.08, 931.6, 927.03, 923.08, 932.53, 922.52]   \n",
       "2  [9065.24, 9065.24, 9065.24, 9065.24, 9060.86, ...   \n",
       "3                                       [88.5, 88.5]   \n",
       "4                                          [1434.07]   \n",
       "\n",
       "   mean_distance_between_addresses  mean_distance_to_facility  \n",
       "0                      2853.728412                1751.268333  \n",
       "1                         7.631725                 926.640000  \n",
       "2                      3027.431289                7553.636667  \n",
       "3                         0.000000                  88.500000  \n",
       "4                              NaN                1434.070000  "
      ]
     },
     "execution_count": 103,
     "metadata": {},
     "output_type": "execute_result"
    }
   ],
   "source": [
    "#adds distance between coordinates, distances to origin by address, and mean distance to origin in kms\n",
    "#in this example, origin is the ESRF\n",
    "df_addresses[['DOI','Addresses','distance_to_facility','mean_distance_between_addresses','mean_distance_to_facility']]"
   ]
  },
  {
   "cell_type": "code",
   "execution_count": 104,
   "id": "9afc11cf",
   "metadata": {},
   "outputs": [
    {
     "name": "stdout",
     "output_type": "stream",
     "text": [
      "DOI: 10.1016/j.actbio.2012.12.008 \n",
      "\n",
      "Distances by address: [('Univ Autonoma Madrid Dept Fis Aplicada E-28049 Madrid Spain', 923.08), ('Univ Politecn Madrid ETSIT Grp Bioingn & Telemed E-28040 Madrid Spain', 931.6), ('Hosp Univ Ramon y Cajal Dept Oftalmol Madrid Spain', 927.03), ('Univ Autonoma Madrid Dept Biol Mol E-28049 Madrid Spain', 923.08), ('CSIC Inst Ceram & Vidrio Madrid Spain', 932.53), ('IMDEA Nanociencia Madrid Spain', 922.52)]\n",
      "\n",
      "Mean distance to facility: 927.0 kms\n",
      "\n",
      "Mean distance between addresses: 8.0 kms\n",
      "\n"
     ]
    }
   ],
   "source": [
    "#example result\n",
    "import random \n",
    "n=random.randint(0,4) #choose a random DOI\n",
    "print('DOI: {} \\n'.format(df_addresses.iloc[n].DOI))\n",
    "print('Distances by address: {}\\n'.format([i for i in zip(df_addresses.iloc[n].Addresses.split(';'), df_addresses.iloc[n].distance_to_facility)]))\n",
    "print('Mean distance to facility: {} kms\\n'.format(np.round(df_addresses.iloc[n].mean_distance_to_facility)))\n",
    "print('Mean distance between addresses: {} kms\\n'.format(np.round(df_addresses.iloc[n].mean_distance_between_addresses)))"
   ]
  }
 ],
 "metadata": {
  "kernelspec": {
   "display_name": "Python 3 (ipykernel)",
   "language": "python",
   "name": "python3"
  },
  "language_info": {
   "codemirror_mode": {
    "name": "ipython",
    "version": 3
   },
   "file_extension": ".py",
   "mimetype": "text/x-python",
   "name": "python",
   "nbconvert_exporter": "python",
   "pygments_lexer": "ipython3",
   "version": "3.10.6"
  }
 },
 "nbformat": 4,
 "nbformat_minor": 5
}

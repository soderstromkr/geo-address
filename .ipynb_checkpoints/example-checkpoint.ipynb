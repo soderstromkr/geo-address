{
 "cells": [
  {
   "cell_type": "code",
   "execution_count": 1,
   "id": "2394544a",
   "metadata": {},
   "outputs": [
    {
     "ename": "SyntaxError",
     "evalue": "invalid syntax (processing.py, line 90)",
     "output_type": "error",
     "traceback": [
      "Traceback \u001b[1;36m(most recent call last)\u001b[0m:\n",
      "\u001b[0m  File \u001b[0;32m~\\miniconda3\\envs\\ldm\\lib\\site-packages\\IPython\\core\\interactiveshell.py:3442\u001b[0m in \u001b[0;35mrun_code\u001b[0m\n    exec(code_obj, self.user_global_ns, self.user_ns)\u001b[0m\n",
      "\u001b[0m  Cell \u001b[0;32mIn[1], line 1\u001b[0m\n    from geo_address.processing import split_address\u001b[0m\n",
      "\u001b[1;36m  File \u001b[1;32m~\\Desktop\\kristofer\\Kristofer\\ML\\phd\\data\\facilities\\art_3\\for_article\\github_folder\\geo-address\\geo_address\\__init__.py:1\u001b[1;36m\n\u001b[1;33m    from .processing import *\u001b[1;36m\n",
      "\u001b[1;36m  File \u001b[1;32m~\\Desktop\\kristofer\\Kristofer\\ML\\phd\\data\\facilities\\art_3\\for_article\\github_folder\\geo-address\\geo_address\\processing.py:90\u001b[1;36m\u001b[0m\n\u001b[1;33m    else:\u001b[0m\n\u001b[1;37m    ^\u001b[0m\n\u001b[1;31mSyntaxError\u001b[0m\u001b[1;31m:\u001b[0m invalid syntax\n"
     ]
    }
   ],
   "source": [
    "from geo_address.processing import split_address\n",
    "from geo_address.processing import begin_geocode\n",
    "\n",
    "import pandas as pd \n"
   ]
  },
  {
   "cell_type": "code",
   "execution_count": null,
   "id": "9838be8f",
   "metadata": {},
   "outputs": [],
   "source": [
    "df = pd.read_csv('../../phd/data/facilities/art_3/for_article/address_to_coords/data/dataset_2011_2013.csv').sample(100)"
   ]
  },
  {
   "cell_type": "code",
   "execution_count": null,
   "id": "a089a58b",
   "metadata": {},
   "outputs": [],
   "source": [
    "test_df = split_address(df, 'Addresses')"
   ]
  },
  {
   "cell_type": "markdown",
   "id": "aa160b1c",
   "metadata": {},
   "source": [
    "**Note**: Remember to add your API Key on the text file if you're using Google V3 as in the article. If you use another API, consult the geopy documentation for the requirements. \n",
    "For example, not providing a valid API Key for GoogleV3 the following error pops up:\n",
    "GeocoderQueryError: The provided API key is invalid.  "
   ]
  },
  {
   "cell_type": "code",
   "execution_count": null,
   "id": "b142b2df",
   "metadata": {},
   "outputs": [],
   "source": [
    "coords = begin_geocode(test_df)"
   ]
  }
 ],
 "metadata": {
  "kernelspec": {
   "display_name": "Python 3 (ipykernel)",
   "language": "python",
   "name": "python3"
  },
  "language_info": {
   "codemirror_mode": {
    "name": "ipython",
    "version": 3
   },
   "file_extension": ".py",
   "mimetype": "text/x-python",
   "name": "python",
   "nbconvert_exporter": "python",
   "pygments_lexer": "ipython3",
   "version": "3.8.5"
  }
 },
 "nbformat": 4,
 "nbformat_minor": 5
}
